{
 "cells": [
  {
   "cell_type": "code",
   "execution_count": 1,
   "id": "04ed09ca",
   "metadata": {},
   "outputs": [],
   "source": [
    "import sys\n",
    "sys.path.insert(0,\"..\")\n",
    "from queuerious_detector.preprocessing import *\n",
    "import pandas as pd"
   ]
  },
  {
   "cell_type": "code",
   "execution_count": 2,
   "id": "ae88964a",
   "metadata": {},
   "outputs": [],
   "source": [
    "#load the data\n",
    "raw_data = pd.read_csv(\n",
    "    \"../data/raw/aa_dataset-tickets-multi-lang-5-2-50-version.csv\")\n",
    "\n",
    "#combine classes based on previous analysis\n",
    "class_map = {'Technical Support': 'Technical & IT Support',\n",
    "    'IT Support': 'Technical & IT Support',\n",
    "    'Customer Service': 'Customer Service, Returns & Exchanges',\n",
    "    'Returns and Exchanges': 'Customer Service, Returns & Exchanges'\n",
    "}\n",
    "\n",
    "#preprocess the data\n",
    "preprocessed_df = preprocess_tickets(\n",
    "    df=raw_data,\n",
    "    text_fields=[\"subject\", \"body\"],\n",
    "    target_col=\"queue\",\n",
    "    new_target_col=\"queue_grouped\",\n",
    "    class_map=class_map,\n",
    "    output_columns=[\"combined_text\", \"queue_grouped\"]\n",
    ")\n",
    "\n",
    "#redact PII from the combined text\n",
    "preprocessed_df[\"redacted_text\"] = preprocessed_df[\"combined_text\"].apply(redact_pii)"
   ]
  },
  {
   "cell_type": "code",
   "execution_count": 3,
   "id": "1f1f1887",
   "metadata": {},
   "outputs": [
    {
     "data": {
      "text/html": [
       "<div>\n",
       "<style scoped>\n",
       "    .dataframe tbody tr th:only-of-type {\n",
       "        vertical-align: middle;\n",
       "    }\n",
       "\n",
       "    .dataframe tbody tr th {\n",
       "        vertical-align: top;\n",
       "    }\n",
       "\n",
       "    .dataframe thead th {\n",
       "        text-align: right;\n",
       "    }\n",
       "</style>\n",
       "<table border=\"1\" class=\"dataframe\">\n",
       "  <thead>\n",
       "    <tr style=\"text-align: right;\">\n",
       "      <th></th>\n",
       "      <th>combined_text</th>\n",
       "      <th>queue_grouped</th>\n",
       "      <th>redacted_text</th>\n",
       "    </tr>\n",
       "  </thead>\n",
       "  <tbody>\n",
       "    <tr>\n",
       "      <th>1</th>\n",
       "      <td>Account Disruption Dear Customer Support Team,...</td>\n",
       "      <td>Technical &amp; IT Support</td>\n",
       "      <td>Account Disruption Dear Customer Support Team,...</td>\n",
       "    </tr>\n",
       "    <tr>\n",
       "      <th>2</th>\n",
       "      <td>Query About Smart Home System Integration Feat...</td>\n",
       "      <td>Customer Service, Returns &amp; Exchanges</td>\n",
       "      <td>Query About Smart Home System Integration Feat...</td>\n",
       "    </tr>\n",
       "    <tr>\n",
       "      <th>3</th>\n",
       "      <td>Inquiry Regarding Invoice Details Dear Custome...</td>\n",
       "      <td>Billing and Payments</td>\n",
       "      <td>Inquiry Regarding Invoice Details Dear Custome...</td>\n",
       "    </tr>\n",
       "    <tr>\n",
       "      <th>4</th>\n",
       "      <td>Question About Marketing Agency Software Compa...</td>\n",
       "      <td>Sales and Pre-Sales</td>\n",
       "      <td>Question About Marketing Agency Software Compa...</td>\n",
       "    </tr>\n",
       "    <tr>\n",
       "      <th>5</th>\n",
       "      <td>Feature Query Dear Customer Support,\\n\\nI hope...</td>\n",
       "      <td>Technical &amp; IT Support</td>\n",
       "      <td>Feature Query Dear Customer Support,\\n\\nI hope...</td>\n",
       "    </tr>\n",
       "  </tbody>\n",
       "</table>\n",
       "</div>"
      ],
      "text/plain": [
       "                                       combined_text  \\\n",
       "1  Account Disruption Dear Customer Support Team,...   \n",
       "2  Query About Smart Home System Integration Feat...   \n",
       "3  Inquiry Regarding Invoice Details Dear Custome...   \n",
       "4  Question About Marketing Agency Software Compa...   \n",
       "5  Feature Query Dear Customer Support,\\n\\nI hope...   \n",
       "\n",
       "                           queue_grouped  \\\n",
       "1                 Technical & IT Support   \n",
       "2  Customer Service, Returns & Exchanges   \n",
       "3                   Billing and Payments   \n",
       "4                    Sales and Pre-Sales   \n",
       "5                 Technical & IT Support   \n",
       "\n",
       "                                       redacted_text  \n",
       "1  Account Disruption Dear Customer Support Team,...  \n",
       "2  Query About Smart Home System Integration Feat...  \n",
       "3  Inquiry Regarding Invoice Details Dear Custome...  \n",
       "4  Question About Marketing Agency Software Compa...  \n",
       "5  Feature Query Dear Customer Support,\\n\\nI hope...  "
      ]
     },
     "execution_count": 3,
     "metadata": {},
     "output_type": "execute_result"
    }
   ],
   "source": [
    "preprocessed_df.head()"
   ]
  },
  {
   "cell_type": "code",
   "execution_count": 4,
   "id": "7756d017",
   "metadata": {},
   "outputs": [
    {
     "data": {
      "text/html": [
       "<div>\n",
       "<style scoped>\n",
       "    .dataframe tbody tr th:only-of-type {\n",
       "        vertical-align: middle;\n",
       "    }\n",
       "\n",
       "    .dataframe tbody tr th {\n",
       "        vertical-align: top;\n",
       "    }\n",
       "\n",
       "    .dataframe thead th {\n",
       "        text-align: right;\n",
       "    }\n",
       "</style>\n",
       "<table border=\"1\" class=\"dataframe\">\n",
       "  <thead>\n",
       "    <tr style=\"text-align: right;\">\n",
       "      <th></th>\n",
       "      <th>combined_text</th>\n",
       "      <th>redacted_text</th>\n",
       "      <th>queue_grouped</th>\n",
       "    </tr>\n",
       "  </thead>\n",
       "  <tbody>\n",
       "    <tr>\n",
       "      <th>13814</th>\n",
       "      <td>Secure Handling of Medical Data in Docker Envi...</td>\n",
       "      <td>Secure Handling of Medical Data in Docker Envi...</td>\n",
       "      <td>Technical &amp; IT Support</td>\n",
       "    </tr>\n",
       "  </tbody>\n",
       "</table>\n",
       "</div>"
      ],
      "text/plain": [
       "                                           combined_text  \\\n",
       "13814  Secure Handling of Medical Data in Docker Envi...   \n",
       "\n",
       "                                           redacted_text  \\\n",
       "13814  Secure Handling of Medical Data in Docker Envi...   \n",
       "\n",
       "                queue_grouped  \n",
       "13814  Technical & IT Support  "
      ]
     },
     "execution_count": 4,
     "metadata": {},
     "output_type": "execute_result"
    }
   ],
   "source": [
    "#running this cell a few times to assess\n",
    "preprocessed_df[[\"combined_text\",\"redacted_text\",\"queue_grouped\"]].sample(n=1)"
   ]
  },
  {
   "cell_type": "markdown",
   "id": "d77df29c",
   "metadata": {},
   "source": [
    "### Lessons Learned:\n",
    "1. In viewing the \"Answer\" column I can see that the data was previously redacted, however it doesn't seem that \"body\" and \"subject\" were redacted.\n",
    "\n",
    "2. The redaction function will get added to the pipeline to help reduce pii in new data (production)\n",
    "\n",
    "3. I experimented the spacy Small models but had too many misclassifications, the Large models seem to perform better.\n",
    "\n",
    "4. One thing that increases missclassifications is the lack of context - for example the \"subject\" column alone may be too short for NER to be effective. I decided to combine the \"subject\" and \"body\" columns.\n",
    "\n",
    "5. Sometimes product is misclassified by Spacy NER - it's recognized as person entity\n",
    "\n",
    "6. One enhancement I would make is translation - the traslation function takes hours to implement since we have 12k german records."
   ]
  }
 ],
 "metadata": {
  "kernelspec": {
   "display_name": "siads699",
   "language": "python",
   "name": "python3"
  },
  "language_info": {
   "codemirror_mode": {
    "name": "ipython",
    "version": 3
   },
   "file_extension": ".py",
   "mimetype": "text/x-python",
   "name": "python",
   "nbconvert_exporter": "python",
   "pygments_lexer": "ipython3",
   "version": "3.10.18"
  }
 },
 "nbformat": 4,
 "nbformat_minor": 5
}
