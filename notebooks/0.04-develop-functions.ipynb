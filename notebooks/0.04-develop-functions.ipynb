{
 "cells": [
  {
   "cell_type": "code",
   "execution_count": null,
   "id": "ae88964a",
   "metadata": {},
   "outputs": [],
   "source": [
    "import sys\n",
    "sys.path.insert(0,\"..\")\n",
    "from queuerious_detector.preprocessing import *\n",
    "from queuerious_detector.leak_prevent import deduplicate_and_split\n",
    "import pandas as pd\n",
    "\n",
    "#load the data\n",
    "raw_data = pd.read_csv(\n",
    "    \"../data/raw/aa_dataset-tickets-multi-lang-5-2-50-version.csv\")\n",
    "\n",
    "#combine classes based on previous analysis\n",
    "class_map = {'Technical Support': 'Technical & IT Support',\n",
    "    'IT Support': 'Technical & IT Support',\n",
    "    'Customer Service': 'Customer Service, Returns & Exchanges',\n",
    "    'Returns and Exchanges': 'Customer Service, Returns & Exchanges'\n",
    "}\n",
    "\n",
    "#preprocess the data\n",
    "preprocessed_df = preprocess_tickets(\n",
    "    df=raw_data,\n",
    "    text_fields=[\"subject\", \"body\"],\n",
    "    target_col=\"queue\",\n",
    "    new_target_col=\"queue_grouped\",\n",
    "    class_map=class_map,\n",
    "    output_columns=[\"combined_text\", \"queue_grouped\"]\n",
    ")\n",
    "\n",
    "#redact PII from the combined text\n",
    "preprocessed_df[\"redacted_text\"] = preprocessed_df[\"combined_text\"].apply(redact_pii)\n",
    "\n",
    "#clean text\n",
    "preprocessed_df[\"redacted_text_clean\"] = preprocessed_df[\"redacted_text\"].apply(clean_text)\n",
    "\n",
    "#split and save the data\n",
    "train_df, val_df, test_df = deduplicate_and_split(\n",
    "    preprocessed_df,\n",
    "    text_col=\"redacted_text_clean\",\n",
    "    target_col=\"queue_grouped\"\n",
    ")\n",
    "\n",
    "train_df.to_csv(\"../data/processed/train_tickets.csv\", index=False)\n",
    "val_df.to_csv(\"../data/processed/val_tickets.csv\", index=False)\n",
    "test_df.to_csv(\"../data/processed/test_tickets.csv\", index=False)"
   ]
  },
  {
   "cell_type": "markdown",
   "id": "d77df29c",
   "metadata": {},
   "source": [
    "### Lessons Learned:\n",
    "1. In viewing the \"Answer\" column I can see that the data was previously redacted, however it doesn't seem that \"body\" and \"subject\" were redacted.\n",
    "\n",
    "2. The redaction function will get added to the pipeline to help reduce pii in new data (production)\n",
    "\n",
    "3. I experimented the spacy Small models but had too many misclassifications, the Large models seem to perform better.\n",
    "\n",
    "4. One thing that increases missclassifications is the lack of context - for example the \"subject\" column alone may be too short for NER to be effective. I decided to combine the \"subject\" and \"body\" columns.\n",
    "\n",
    "5. Sometimes product is misclassified by Spacy NER - it's recognized as person entity\n",
    "\n",
    "6. One enhancement I would make is translation - the traslation function takes hours to implement since we have 12k german records."
   ]
  }
 ],
 "metadata": {
  "kernelspec": {
   "display_name": "siads699",
   "language": "python",
   "name": "python3"
  },
  "language_info": {
   "codemirror_mode": {
    "name": "ipython",
    "version": 3
   },
   "file_extension": ".py",
   "mimetype": "text/x-python",
   "name": "python",
   "nbconvert_exporter": "python",
   "pygments_lexer": "ipython3",
   "version": "3.10.18"
  }
 },
 "nbformat": 4,
 "nbformat_minor": 5
}
